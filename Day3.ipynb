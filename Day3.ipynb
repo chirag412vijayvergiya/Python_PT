{
 "cells": [
  {
   "cell_type": "code",
   "execution_count": 4,
   "metadata": {},
   "outputs": [
    {
     "name": "stdout",
     "output_type": "stream",
     "text": [
      "Original list:  [1, 2, 3, 5]\n",
      "Sorted list:  [1, 2, 3, 5]\n",
      "Missing number is:  4\n"
     ]
    }
   ],
   "source": [
    "# list = [6, 1, 2, 8, 3, 4, 7, 10, 5 ]\n",
    "list = [1, 2, 3, 5]\n",
    "print(\"Original list: \", list)\n",
    "list.sort()\n",
    "print(\"Sorted list: \", list)\n",
    "for i in range(len(list)):\n",
    "    if(list[i] != i+1):\n",
    "        print(\"Missing number is: \", i+1)\n",
    "        break\n",
    "\n"
   ]
  },
  {
   "cell_type": "code",
   "execution_count": 6,
   "metadata": {},
   "outputs": [
    {
     "name": "stdout",
     "output_type": "stream",
     "text": [
      "Original list:  [1, 2, 3, 4]\n",
      "Sorted list:  [1, 2, 3, 4]\n",
      "Missing number is:  5\n"
     ]
    }
   ],
   "source": [
    "N = 5\n",
    "list = [1, 2, 3, 4]\n",
    "print(\"Original list: \", list)\n",
    "list.sort()\n",
    "print(\"Sorted list: \", list)\n",
    "\n",
    "for i in range(1, N + 1) :\n",
    "    if i not in list:\n",
    "        print(\"Missing number is: \", i)\n",
    "        break"
   ]
  },
  {
   "cell_type": "code",
   "execution_count": 7,
   "metadata": {},
   "outputs": [
    {
     "name": "stdout",
     "output_type": "stream",
     "text": [
      "Hello\n"
     ]
    }
   ],
   "source": [
    "def show():\n",
    "    print(\"Hello\")\n",
    "# In python __main__ function is exist but not mandatory to use it.\n",
    "if __name__ == \"__main__\":\n",
    "    show()    "
   ]
  },
  {
   "cell_type": "code",
   "execution_count": 17,
   "metadata": {},
   "outputs": [
    {
     "name": "stdout",
     "output_type": "stream",
     "text": [
      "Addition is  46\n"
     ]
    }
   ],
   "source": [
    "def add():\n",
    "    a=int(input(\"Enter value of a: \"))\n",
    "    b=int(input(\"Enter value of b: \"))\n",
    "    res=a+b;\n",
    "    print(\"Addition is \",res)\n",
    "    \n",
    "add();"
   ]
  },
  {
   "cell_type": "code",
   "execution_count": 10,
   "metadata": {},
   "outputs": [
    {
     "name": "stdout",
     "output_type": "stream",
     "text": [
      "Addition is  57\n"
     ]
    }
   ],
   "source": [
    "def add(a, b):\n",
    "    res=a+b;\n",
    "    print(\"Addition is \",res)\n",
    "    \n",
    "if __name__ == \"__main__\":\n",
    "    a=int(input(\"Enter value of a: \"))\n",
    "    b=int(input(\"Enter value of b: \"))\n",
    "    add(a, b);"
   ]
  },
  {
   "cell_type": "code",
   "execution_count": 18,
   "metadata": {},
   "outputs": [
    {
     "name": "stdout",
     "output_type": "stream",
     "text": [
      "Addition is  57\n"
     ]
    }
   ],
   "source": [
    "def add(a, b):\n",
    "    res=a+b;\n",
    "    return res;\n",
    "    # print(\"Addition is \",res)\n",
    "    \n",
    "if __name__ == \"__main__\":\n",
    "    a=int(input(\"Enter value of a: \"))\n",
    "    b=int(input(\"Enter value of b: \"))\n",
    "    r = add(a, b);\n",
    "    print(\"Addition is \",r)"
   ]
  },
  {
   "cell_type": "code",
   "execution_count": 20,
   "metadata": {},
   "outputs": [
    {
     "name": "stdout",
     "output_type": "stream",
     "text": [
      "Addition is  57\n",
      "Sub is  11\n",
      "Div is  1.4782608695652173\n",
      "Mul is  782\n"
     ]
    }
   ],
   "source": [
    "def add(a, b):\n",
    "    res1=a+b;\n",
    "    res2=a-b;\n",
    "    res3=a/b;\n",
    "    res4=a*b;\n",
    "    return res1, res2,res3,res4\n",
    "\n",
    "if __name__ == \"__main__\":\n",
    "    a=int(input(\"Enter value of a: \")) \n",
    "    b=int(input(\"Enter value of b: \"))\n",
    "    r1, r2, r3, r4 = add(a, b)\n",
    "    print(\"Addition is \",r1)\n",
    "    print(\"Sub is \", r2)\n",
    "    print(\"Div is \", r3)\n",
    "    print (\"Mul is \", r4)"
   ]
  },
  {
   "cell_type": "code",
   "execution_count": 21,
   "metadata": {},
   "outputs": [],
   "source": [
    "# Python doesn't support function overloading."
   ]
  },
  {
   "cell_type": "code",
   "execution_count": 22,
   "metadata": {},
   "outputs": [
    {
     "name": "stdout",
     "output_type": "stream",
     "text": [
      "The Sum= 10\n",
      "The Sum= 30\n",
      "The Sum= 305\n"
     ]
    }
   ],
   "source": [
    "def sum(*n):\n",
    "    total=0\n",
    "    for n1 in n:\n",
    "        total=total+n1\n",
    "    print (\"The Sum=\", total)\n",
    "sum (10)\n",
    "sum (10,20)\n",
    "sum (10,20, 22, 66,99,88)"
   ]
  },
  {
   "cell_type": "code",
   "execution_count": 23,
   "metadata": {},
   "outputs": [],
   "source": [
    "#All functions mentained by stack\n"
   ]
  },
  {
   "cell_type": "code",
   "execution_count": 25,
   "metadata": {},
   "outputs": [
    {
     "name": "stdout",
     "output_type": "stream",
     "text": [
      "Factorial of  1  is  1\n"
     ]
    }
   ],
   "source": [
    "def factorial(n):\n",
    "    if n==0:\n",
    "        result=1\n",
    "    else:\n",
    "        result=n*factorial(n-1)\n",
    "    return result\n",
    "\n",
    "if __name__ == \"__main__\":\n",
    "    n=int(input(\"Enter the number: \"))\n",
    "    print(\"Factorial of \", n, \" is \", factorial(n))\n",
    "\n",
    "# factorial(5)\n",
    "#   5*factorial(4)\n",
    "#       4*factorial(3)\n",
    "#           3*factorial (2)\n",
    "#               2*factorial(1)\n",
    "#                   1\n"
   ]
  },
  {
   "cell_type": "code",
   "execution_count": 26,
   "metadata": {},
   "outputs": [
    {
     "name": "stdout",
     "output_type": "stream",
     "text": [
      "Multiplication of  5  and  8  is  40\n"
     ]
    }
   ],
   "source": [
    "def mul(n, m):\n",
    "    if(n == 0 or m == 0):\n",
    "        return 0\n",
    "    elif m == 1:\n",
    "        return n\n",
    "    elif n == 1:\n",
    "        return m\n",
    "    else:\n",
    "        return n + mul(n, m-1)\n",
    "    \n",
    "\n",
    "if __name__ == \"__main__\":\n",
    "    n=int(input(\"Enter the number: \"))\n",
    "    m=int(input(\"Enter the number: \"))\n",
    "    print(\"Multiplication of \", n, \" and \", m ,\" is \", mul(n, m))"
   ]
  },
  {
   "cell_type": "code",
   "execution_count": 29,
   "metadata": {},
   "outputs": [
    {
     "name": "stdout",
     "output_type": "stream",
     "text": [
      "Addition is  30\n",
      "Square is  25\n",
      "Max number is  20\n"
     ]
    }
   ],
   "source": [
    "# lambda function\n",
    "# All code of function should be in one line\n",
    "# statement after colon is bydefault return statement\n",
    "# lambda is used to create small function\n",
    "# lambda is used to create anonymous function\n",
    "\n",
    "f = lambda a, b: a+b\n",
    "result = f(10, 20)\n",
    "print(\"Addition is \", result)\n",
    "\n",
    "s = lambda n: n*n\n",
    "print(\"Square is \", s(5))\n",
    "\n",
    "s = lambda x, y : x if x>y else y\n",
    "print(\"Max number is \", s(10, 20))\n"
   ]
  },
  {
   "cell_type": "code",
   "execution_count": 6,
   "metadata": {},
   "outputs": [
    {
     "name": "stdout",
     "output_type": "stream",
     "text": [
      "[4, 9]\n"
     ]
    }
   ],
   "source": [
    "list1 = [4, 9, 5]\n",
    "list2 = [9, 4, 9, 8, 4]\n",
    "list3 =[]\n",
    "for i in list1:\n",
    "    if i in list2:\n",
    "        list3.append(i)\n",
    "\n",
    "print(list3)"
   ]
  },
  {
   "cell_type": "code",
   "execution_count": 9,
   "metadata": {},
   "outputs": [
    {
     "name": "stdout",
     "output_type": "stream",
     "text": [
      "[[1, 3], [4, 6]]\n"
     ]
    }
   ],
   "source": [
    "list1 = [1, 2, 3]\n",
    "list2 = [2, 4, 6]\n",
    "list3 =[]\n",
    "list4 = []\n",
    "ans = []\n",
    "\n",
    "for i in list1:\n",
    "    if i not in list2:\n",
    "        list3.append(i)\n",
    "\n",
    "for i in list2:\n",
    "    if i not in list1:\n",
    "        list4.append(i)\n",
    "\n",
    "ans.append(list3)\n",
    "ans.append(list4)\n",
    "print(ans)\n"
   ]
  },
  {
   "cell_type": "code",
   "execution_count": 43,
   "metadata": {},
   "outputs": [
    {
     "name": "stdout",
     "output_type": "stream",
     "text": [
      "[4, 5, 1, 2, 3]\n"
     ]
    }
   ],
   "source": [
    "input = [1, 2, 3, 4, 5]\n",
    "k = 2\n",
    "output = []\n",
    "\n",
    "i = len(input) - k\n",
    "# j = 0\n",
    "while i < len(input):\n",
    "    # output[j] = input[i]\n",
    "    output.append(input[i])\n",
    "    i += 1\n",
    "    # j += 1\n",
    "\n",
    "for i in range(len(input) - k):\n",
    "    # output[i+2] = input[i]\n",
    "    output.append(input[i])\n",
    "print(output)"
   ]
  },
  {
   "cell_type": "code",
   "execution_count": 44,
   "metadata": {},
   "outputs": [
    {
     "name": "stdout",
     "output_type": "stream",
     "text": [
      "[4, 5, 1, 2, 3]\n"
     ]
    }
   ],
   "source": [
    "arr = [1, 2, 3, 4, 5]\n",
    "k = 2\n",
    "n = len(arr)\n",
    "temp = 0\n",
    "for i in range(k):\n",
    "    temp = arr[-1]\n",
    "    for j in range(n-1, 0, -1):\n",
    "        arr[j] = arr[j-1]\n",
    "    arr[0] = temp\n",
    "print(arr)"
   ]
  },
  {
   "cell_type": "code",
   "execution_count": 6,
   "metadata": {},
   "outputs": [
    {
     "name": "stdout",
     "output_type": "stream",
     "text": [
      "[-1, -3, -6, -7]\n",
      "[2, 4, 5]\n",
      "[-1, 2, -3, 4, -6, 5, -7]\n"
     ]
    }
   ],
   "source": [
    "input = [-1, 2, -3, 4, 5, -6, -7]\n",
    "list1 = []\n",
    "list2 = []\n",
    "output = []\n",
    "for i in range(len(input)):\n",
    "    if(input[i] <= 0) :\n",
    "        list1.append(input[i])\n",
    "    else:\n",
    "        list2.append(input[i])\n",
    "\n",
    "x = len(list1)\n",
    "y = len(list2)\n",
    "\n",
    "print(list1)\n",
    "print(list2)\n",
    "\n",
    "i = 0\n",
    "while i < x and i < y:\n",
    "    output.append(list1[i])\n",
    "    output.append(list2[i])\n",
    "    i += 1\n",
    "\n",
    "while i < x:\n",
    "    output.append(list1[i])\n",
    "    i += 1\n",
    "\n",
    "while i < y:\n",
    "    output.append(list2[i])\n",
    "    i += 1\n",
    "\n",
    "print(output)"
   ]
  },
  {
   "cell_type": "code",
   "execution_count": 26,
   "metadata": {},
   "outputs": [
    {
     "name": "stdout",
     "output_type": "stream",
     "text": [
      "[1, 2, 3, 4]\n"
     ]
    }
   ],
   "source": [
    "input = [1, 2, 3, 4, 6, 7, 8, 9, 10]\n",
    "output = []\n",
    "\n",
    "input.sort()\n",
    "for i in range(len(input) - 1):\n",
    "    output.append(input[i])\n",
    "    if input[i] + 1 != input[i+1] :\n",
    "        break\n",
    "\n",
    "print(output)\n"
   ]
  },
  {
   "cell_type": "code",
   "execution_count": null,
   "metadata": {},
   "outputs": [],
   "source": [
    "z = int(input(\"Enter the value of x :- \"))\n",
    "n = int(input(\"Enter the value of n :- \"))\n",
    "\n",
    "sum = 1\n",
    "for i in range(n):\n",
    "    p = z**(i+1)\n",
    "    sum += p/(i+1)\n",
    "print(sum)"
   ]
  },
  {
   "cell_type": "code",
   "execution_count": null,
   "metadata": {},
   "outputs": [],
   "source": [
    "k = int(input(\"Enter the value of x :- \"))\n",
    "o = int(input(\"Enter the value of n :- \"))\n",
    "\n",
    "sum = 1\n",
    "for i in range(1, n + 1):\n",
    "    no = i\n",
    "    fact = 1\n",
    "    while no > 0:\n",
    "        fact = fact * no\n",
    "        no = no - 1\n",
    "    sum += (x ** i)/ fact\n",
    "\n",
    "print(sum)"
   ]
  },
  {
   "cell_type": "code",
   "execution_count": 25,
   "metadata": {},
   "outputs": [
    {
     "name": "stdout",
     "output_type": "stream",
     "text": [
      "[1, 3, 4]\n",
      "2\n"
     ]
    }
   ],
   "source": [
    "input = [3, 4, -1, 1]\n",
    "list1 = []\n",
    "for i in range(len(input)):\n",
    "    if(input[i] > 0):\n",
    "        list1.append(input[i])\n",
    "\n",
    "list1.sort()\n",
    "print(list1)\n",
    "for i in range(len(list1)):\n",
    "    if(i+1 != list1[i]):\n",
    "        print(i+1)\n",
    "        break\n"
   ]
  },
  {
   "cell_type": "code",
   "execution_count": null,
   "metadata": {},
   "outputs": [],
   "source": []
  }
 ],
 "metadata": {
  "kernelspec": {
   "display_name": "Python 3",
   "language": "python",
   "name": "python3"
  },
  "language_info": {
   "codemirror_mode": {
    "name": "ipython",
    "version": 3
   },
   "file_extension": ".py",
   "mimetype": "text/x-python",
   "name": "python",
   "nbconvert_exporter": "python",
   "pygments_lexer": "ipython3",
   "version": "3.12.1"
  }
 },
 "nbformat": 4,
 "nbformat_minor": 2
}

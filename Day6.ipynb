{
 "cells": [
  {
   "cell_type": "code",
   "execution_count": 13,
   "metadata": {},
   "outputs": [
    {
     "name": "stdout",
     "output_type": "stream",
     "text": [
      "True\n"
     ]
    }
   ],
   "source": [
    "n = int(input(\"Enter a Number :- \"))\n",
    "x = 0\n",
    "for i in range(1, int(n//4)):\n",
    "    if n == 4**i:\n",
    "        x = 1\n",
    "        break\n",
    "\n",
    "if x == 1:\n",
    "    print(\"True\")\n",
    "else:\n",
    "    print(\"False\")\n",
    "\n"
   ]
  },
  {
   "cell_type": "code",
   "execution_count": 3,
   "metadata": {},
   "outputs": [
    {
     "name": "stdout",
     "output_type": "stream",
     "text": [
      "Both Arrays are not Equal\n"
     ]
    }
   ],
   "source": [
    "# A = [1, 2, 5, 4, 0]\n",
    "# B = [2, 4, 5, 0, 1]\n",
    "\n",
    "A = [1, 2, 5]\n",
    "B = [2, 4, 15]\n",
    "\n",
    "def sort_array(A):\n",
    "    for i in range(len(A)):\n",
    "        for j in range(i+1, len(A)):\n",
    "            if(A[i] > A[j]):\n",
    "                A[i], A[j] = A[j], A[i]\n",
    "    return A    \n",
    "        \n",
    "\n",
    "def find_array_equal(A, B):\n",
    "    if(len(A) != len(B)):\n",
    "        return False\n",
    "\n",
    "    A = sort_array(A)\n",
    "    B = sort_array(B)\n",
    "\n",
    "    for i in range(len(A)):\n",
    "        if(A[i] != B[i]):\n",
    "            return False\n",
    "    return True\n",
    "\n",
    "\n",
    "if(find_array_equal(A, B)):\n",
    "    print(\"Both Arrays are Equal\")\n",
    "else:\n",
    "    print(\"Both Arrays are not Equal\")\n",
    "\n",
    "    "
   ]
  },
  {
   "cell_type": "code",
   "execution_count": 7,
   "metadata": {},
   "outputs": [
    {
     "name": "stdout",
     "output_type": "stream",
     "text": [
      "4\n"
     ]
    }
   ],
   "source": [
    "A = [3, 3, 4, 4, 1, 4, 2, 4, 4]\n",
    "\n",
    "def find_majority_element(A):\n",
    "    map = {}\n",
    "    for i in A:\n",
    "        if(i in map):\n",
    "            map[i] += 1\n",
    "        else:\n",
    "            map[i] = 1\n",
    "\n",
    "    p = 0\n",
    "    x = 0\n",
    "    for i in map:\n",
    "        if(map[i] > len(A)//2):\n",
    "            if(map[i] > p):\n",
    "                p = map[i]\n",
    "                x = i\n",
    "        \n",
    "    return x\n",
    "            \n",
    "\n",
    "print(find_majority_element(A))\n",
    "\n",
    "            \n"
   ]
  },
  {
   "cell_type": "code",
   "execution_count": 16,
   "metadata": {},
   "outputs": [
    {
     "name": "stdout",
     "output_type": "stream",
     "text": [
      "3\n"
     ]
    }
   ],
   "source": [
    "q = int(input(\"Enter a Number :- \"))\n",
    "p = str(q)\n",
    "n = len(p)\n",
    "map = {}\n",
    "for i in range(n):\n",
    "    if(p[i] in map):\n",
    "        map[p[i]] += 1\n",
    "    else:\n",
    "        map[p[i]] = 1\n",
    "\n",
    "count = 0\n",
    "for i in map:\n",
    "    if(map[i] > 1):\n",
    "        count += 1\n",
    "\n",
    "print(count)\n",
    "    "
   ]
  },
  {
   "cell_type": "code",
   "execution_count": 20,
   "metadata": {},
   "outputs": [
    {
     "name": "stdout",
     "output_type": "stream",
     "text": [
      "8\n"
     ]
    }
   ],
   "source": [
    "q = [3, 8, 1, 10, 5]\n",
    "# p = sorted(q)\n",
    "# print(p[-2])\n",
    "\n",
    "temp1 = 0\n",
    "temp2 = 0\n",
    "for i in range(len(q)):\n",
    "    if(q[i] > temp1):\n",
    "        temp2 = temp1\n",
    "        temp1 = q[i]\n",
    "    elif(q[i] > temp2):\n",
    "        temp2 = q[i]\n",
    "\n",
    "print(temp2)\n",
    "\n",
    "\n",
    "\n"
   ]
  },
  {
   "cell_type": "code",
   "execution_count": 22,
   "metadata": {},
   "outputs": [
    {
     "name": "stdout",
     "output_type": "stream",
     "text": [
      "5\n"
     ]
    }
   ],
   "source": [
    "q = [3, 8, 1, 10, 5]\n",
    "# p = sorted(q)\n",
    "# print(p[-2])\n",
    "\n",
    "temp1 = 0\n",
    "temp2 = 0\n",
    "temp3 = 0\n",
    "for i in range(len(q)):\n",
    "    if(q[i] > temp1):\n",
    "        temp3 = temp2\n",
    "        temp2 = temp1\n",
    "        temp1 = q[i]\n",
    "    elif(q[i] > temp2):\n",
    "        temp3 = temp2\n",
    "        temp2 = q[i]\n",
    "    elif(q[i] > temp3):\n",
    "        temp3 = q[i]\n",
    "\n",
    "print(temp3)"
   ]
  },
  {
   "cell_type": "code",
   "execution_count": 24,
   "metadata": {},
   "outputs": [
    {
     "name": "stdout",
     "output_type": "stream",
     "text": [
      "3\n"
     ]
    }
   ],
   "source": [
    "A = [5, 2, 8, 3, 1, 9, 4]\n",
    "\n",
    "def find_kth_smalled_element(A, k):\n",
    "    for i in range(len(A)):\n",
    "        for j in range(i+1, len(A)):\n",
    "            if(A[i] > A[j]):\n",
    "                A[i], A[j] = A[j], A[i]\n",
    "\n",
    "    return A[k-1]\n",
    "\n",
    "\n",
    "print(find_kth_smalled_element(A, 3))\n",
    "\n"
   ]
  },
  {
   "cell_type": "code",
   "execution_count": 40,
   "metadata": {},
   "outputs": [
    {
     "name": "stdout",
     "output_type": "stream",
     "text": [
      "['4', '5', '9']\n",
      "['4', '5', '9']\n",
      "['4', '9', '5']\n",
      "['5', '4', '9']\n",
      "['5', '9', '4']\n",
      "['9', '5', '4']\n",
      "['9', '4', '5']\n",
      "549\n"
     ]
    }
   ],
   "source": [
    "m = int(input(\"Enter a Number :- \"))\n",
    "n = int(input(\"Enter b Number :- \"))\n",
    "a = list(str(m))\n",
    "print(a)\n",
    "\n",
    "A = []\n",
    "def find_permutation(m, i):\n",
    "    if(i == len(m) - 1):\n",
    "        print(m)\n",
    "        A.append(int(\"\".join(m)))\n",
    "        return\n",
    "    \n",
    "    for j in range(i, len(m)):\n",
    "        m[i], m[j] = m[j], m[i]\n",
    "        find_permutation(m, i+1)\n",
    "        m[i], m[j] = m[j], m[i]\n",
    "\n",
    "find_permutation(a, 0)\n",
    "\n",
    "A = sorted(A)\n",
    "\n",
    "x = 0\n",
    "for i in A:\n",
    "    if(i > n):\n",
    "        x = i\n",
    "        break\n",
    "\n",
    "if(x != 0):\n",
    "    print(x)\n",
    "else:\n",
    "    print(-1)"
   ]
  },
  {
   "cell_type": "code",
   "execution_count": null,
   "metadata": {},
   "outputs": [
    {
     "name": "stdout",
     "output_type": "stream",
     "text": [
      "['dsjfhkj', '6325', 'sjfl', '0382905']\n",
      "['dsjfhkj', '6325', 'sjfl']\n"
     ]
    }
   ],
   "source": [
    "x = input(\"Enter String :- \")\n",
    "A = x.split(\" \")\n",
    "print(A)\n",
    "output = []\n",
    "for i in range(len(A)):\n",
    "    x = A[i]\n",
    "    p = 0\n",
    "    for j in range(len(x)):\n",
    "        if(x[j] == '9'):\n",
    "            p = 1\n",
    "            break\n",
    "    if(p == 0):\n",
    "        output.append(x)\n",
    "\n",
    "print(output)\n",
    "    "
   ]
  },
  {
   "cell_type": "code",
   "execution_count": null,
   "metadata": {},
   "outputs": [
    {
     "name": "stdout",
     "output_type": "stream",
     "text": [
      "2a3b2c\n"
     ]
    }
   ],
   "source": [
    "def StringChallenge(strParam):\n",
    "  map = {}\n",
    "  for i in range(len(strParam)):\n",
    "    if(strParam[i] in map):\n",
    "      map[strParam[i]] += 1\n",
    "    else:\n",
    "      map[strParam[i]] = 1\n",
    "\n",
    "  x = \"\"\n",
    "  for i in map:\n",
    "    x = x + str(map[i]) + i\n",
    "\n",
    "  return x\n",
    "\n",
    "\n",
    "print(StringChallenge(input()))"
   ]
  },
  {
   "cell_type": "code",
   "execution_count": null,
   "metadata": {},
   "outputs": [],
   "source": []
  }
 ],
 "metadata": {
  "kernelspec": {
   "display_name": "Python 3",
   "language": "python",
   "name": "python3"
  },
  "language_info": {
   "codemirror_mode": {
    "name": "ipython",
    "version": 3
   },
   "file_extension": ".py",
   "mimetype": "text/x-python",
   "name": "python",
   "nbconvert_exporter": "python",
   "pygments_lexer": "ipython3",
   "version": "3.12.1"
  }
 },
 "nbformat": 4,
 "nbformat_minor": 2
}

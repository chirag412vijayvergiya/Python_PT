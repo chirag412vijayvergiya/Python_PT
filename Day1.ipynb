{
  "nbformat": 4,
  "nbformat_minor": 0,
  "metadata": {
    "colab": {
      "provenance": [],
      "toc_visible": true
    },
    "kernelspec": {
      "name": "python3",
      "display_name": "Python 3"
    },
    "language_info": {
      "name": "python"
    }
  },
  "cells": [
    {
      "cell_type": "code",
      "execution_count": null,
      "metadata": {
        "colab": {
          "base_uri": "https://localhost:8080/"
        },
        "id": "Z53_0ahORUsj",
        "outputId": "9b029a01-4538-4f15-9bd0-7bdbbf431647"
      },
      "outputs": [
        {
          "output_type": "stream",
          "name": "stdout",
          "text": [
            "137710022197776\n",
            "137710022197776\n"
          ]
        }
      ],
      "source": [
        "a = 10\n",
        "print(id(a))\n",
        "b = 10\n",
        "print(id(b))"
      ]
    },
    {
      "cell_type": "markdown",
      "source": [],
      "metadata": {
        "id": "e7CIpp5fSsZF"
      }
    },
    {
      "cell_type": "code",
      "source": [
        "a = 0.5\n",
        "print(type(a))"
      ],
      "metadata": {
        "colab": {
          "base_uri": "https://localhost:8080/"
        },
        "id": "o3IbF4rySs3u",
        "outputId": "2a9a9c80-ed00-407a-ff61-ae9fd3e300eb"
      },
      "execution_count": null,
      "outputs": [
        {
          "output_type": "stream",
          "name": "stdout",
          "text": [
            "<class 'float'>\n"
          ]
        }
      ]
    },
    {
      "cell_type": "code",
      "source": [
        "list1=[\"ashish\", \"rahul\", \"sandip\", \"prashant\"]\n",
        "print(\"ashish\" in list1)\n",
        "print(\"sonu\" in list1)\n",
        "print(\"sonu\" not in list1)"
      ],
      "metadata": {
        "id": "Ld18XOXBUKAA",
        "colab": {
          "base_uri": "https://localhost:8080/"
        },
        "outputId": "cb30cd31-b10f-47ee-d2c4-1cffcb0a8008"
      },
      "execution_count": 4,
      "outputs": [
        {
          "output_type": "stream",
          "name": "stdout",
          "text": [
            "True\n",
            "False\n",
            "True\n"
          ]
        }
      ]
    },
    {
      "cell_type": "code",
      "source": [
        "x=\"hello learning Python is very easy!\"\n",
        "print('h' in x)\n",
        "print('d' in x)\n",
        "print('d' not in x)\n",
        "print( 'Python' in x)"
      ],
      "metadata": {
        "id": "Aeqc2y08XtEi",
        "colab": {
          "base_uri": "https://localhost:8080/"
        },
        "outputId": "b9645ab4-3ce0-49e5-eb5a-abb8191211c7"
      },
      "execution_count": 5,
      "outputs": [
        {
          "output_type": "stream",
          "name": "stdout",
          "text": [
            "True\n",
            "False\n",
            "True\n",
            "True\n"
          ]
        }
      ]
    },
    {
      "cell_type": "code",
      "source": [
        "a=2\n",
        "b=3\n",
        "res=complex(a, b)\n",
        "print(res)\n",
        "print(complex(3))\n",
        "print (complex(True))\n",
        "print(complex(False))\n",
        "print (complex(True, True))"
      ],
      "metadata": {
        "id": "IGJQVzbUX4aw",
        "colab": {
          "base_uri": "https://localhost:8080/"
        },
        "outputId": "71e0be91-9952-462d-9122-e9643b34e328"
      },
      "execution_count": 6,
      "outputs": [
        {
          "output_type": "stream",
          "name": "stdout",
          "text": [
            "(2+3j)\n",
            "(3+0j)\n",
            "(1+0j)\n",
            "0j\n",
            "(1+1j)\n"
          ]
        }
      ]
    },
    {
      "cell_type": "code",
      "source": [
        "print(bool (True))\n",
        "print(bool(False))\n",
        "print(bool (\"5\"))\n",
        "print (bool (\"'\"))"
      ],
      "metadata": {
        "colab": {
          "base_uri": "https://localhost:8080/"
        },
        "id": "qUJ17rWRYa0z",
        "outputId": "aa91bbc5-9795-4f0b-caef-e58ffaa6b92a"
      },
      "execution_count": 7,
      "outputs": [
        {
          "output_type": "stream",
          "name": "stdout",
          "text": [
            "True\n",
            "False\n",
            "True\n",
            "True\n"
          ]
        }
      ]
    },
    {
      "cell_type": "code",
      "source": [
        "print(float (3.5))\n",
        "print(float(\"3.5\"))\n",
        "print(float (3))\n",
        "#print(float (6+2]))\n",
        "print(float (\"5\" ))\n",
        "#print (float (\"five\")"
      ],
      "metadata": {
        "colab": {
          "base_uri": "https://localhost:8080/"
        },
        "id": "EnUX-njAYql1",
        "outputId": "ad0edb30-fcbe-40b7-dc9c-956d0dcb40d2"
      },
      "execution_count": 8,
      "outputs": [
        {
          "output_type": "stream",
          "name": "stdout",
          "text": [
            "3.5\n",
            "3.5\n",
            "3.0\n",
            "5.0\n"
          ]
        }
      ]
    },
    {
      "cell_type": "code",
      "source": [
        "print(int (3.5))\n",
        "#print(int(\"3,5\"))\n",
        "print(int(3))\n",
        "#print(int (6+2j))\n",
        "print(int (\"5\" ))\n",
        "#print(int(\"five\"))"
      ],
      "metadata": {
        "colab": {
          "base_uri": "https://localhost:8080/"
        },
        "id": "C8GyNRgjYyTX",
        "outputId": "84822ea9-cb73-46a9-cf1e-c6f0dfdbc076"
      },
      "execution_count": 9,
      "outputs": [
        {
          "output_type": "stream",
          "name": "stdout",
          "text": [
            "3\n",
            "3\n",
            "5\n"
          ]
        }
      ]
    },
    {
      "cell_type": "code",
      "source": [
        "import math as m\n",
        "r = 5\n",
        "area = m.pi * (r ** 2 )\n",
        "print(\"Area of circle\", area)"
      ],
      "metadata": {
        "colab": {
          "base_uri": "https://localhost:8080/"
        },
        "id": "9Bap9ur3Y5AQ",
        "outputId": "569ae555-adb9-4645-ce1f-3bf78818ee1c"
      },
      "execution_count": 13,
      "outputs": [
        {
          "output_type": "stream",
          "name": "stdout",
          "text": [
            "Area of circle 78.53981633974483\n"
          ]
        }
      ]
    },
    {
      "cell_type": "code",
      "source": [
        "x = input(\"Enter x value :- \")\n",
        "y = input(\"Enter y value :- \")\n",
        "# input function by default take input string so we have to do typecast\n",
        "print(x + y)\n",
        "print(int(x) + int(y))"
      ],
      "metadata": {
        "colab": {
          "base_uri": "https://localhost:8080/"
        },
        "id": "n0pIwV_wag3D",
        "outputId": "0e342e53-f0b3-4220-90c3-dc316730ff1a"
      },
      "execution_count": 16,
      "outputs": [
        {
          "output_type": "stream",
          "name": "stdout",
          "text": [
            "Enter x value :- 5\n",
            "Enter y value :- 6\n",
            "56\n",
            "11\n"
          ]
        }
      ]
    },
    {
      "cell_type": "code",
      "source": [
        "x = int(input(\"Enter x value :- \"))\n",
        "y = int(input(\"Enter y value :- \"))\n",
        "# input function by default take input string so we have to do typecast\n",
        "print(x + y)"
      ],
      "metadata": {
        "colab": {
          "base_uri": "https://localhost:8080/"
        },
        "id": "Tu80UX38bMkx",
        "outputId": "e9894fcc-c5db-414e-bc81-a64d31aeda43"
      },
      "execution_count": 15,
      "outputs": [
        {
          "output_type": "stream",
          "name": "stdout",
          "text": [
            "Enter x value :- 5\n",
            "Enter y value :- 6\n",
            "11\n"
          ]
        }
      ]
    },
    {
      "cell_type": "code",
      "source": [
        "print(\"Addition is :-\", int(input(\"Enter x value :- \")) + int(input(\"Enter y value :- \")))"
      ],
      "metadata": {
        "colab": {
          "base_uri": "https://localhost:8080/"
        },
        "id": "h7WkmqXFbdUa",
        "outputId": "6916f703-e464-4923-e6e0-b91260179fb6"
      },
      "execution_count": 17,
      "outputs": [
        {
          "output_type": "stream",
          "name": "stdout",
          "text": [
            "Enter x value :- 5\n",
            "Enter y value :- 6\n",
            "Addition is :- 11\n"
          ]
        }
      ]
    },
    {
      "cell_type": "code",
      "source": [
        "a = eval(input(\"Enter a value :- \"))\n",
        "print(a)"
      ],
      "metadata": {
        "colab": {
          "base_uri": "https://localhost:8080/"
        },
        "id": "MkjcFWkJcLsL",
        "outputId": "9849af59-4606-457f-c643-806f733c295c"
      },
      "execution_count": 21,
      "outputs": [
        {
          "output_type": "stream",
          "name": "stdout",
          "text": [
            "Enter a value :- 7\n",
            "7\n"
          ]
        }
      ]
    },
    {
      "cell_type": "code",
      "source": [
        "# Escape Sequence operator :- They Don't display\n",
        "print(\"Hello \\n World\")\n",
        "# But if we want to display then\n",
        "print(\"Hello \\\\n World\")\n",
        "print(\"Hello \\t World\")\n",
        "print(\"Hello\"+\"World\")\n",
        "print(\"Hello\"*3)"
      ],
      "metadata": {
        "colab": {
          "base_uri": "https://localhost:8080/"
        },
        "id": "8nYYweTrcjEX",
        "outputId": "e77b8b2f-fbc8-4058-d020-cc31076e97f0"
      },
      "execution_count": 26,
      "outputs": [
        {
          "output_type": "stream",
          "name": "stdout",
          "text": [
            "Hello \n",
            " World\n",
            "Hello \\n World\n",
            "Hello \t World\n",
            "HelloWorld\n",
            "HelloHelloHello\n"
          ]
        }
      ]
    },
    {
      "cell_type": "code",
      "source": [
        "a,b,c = 10, 20, 30\n",
        "print(a, b, c)\n",
        "print(a, b, c, sep=\":\")"
      ],
      "metadata": {
        "colab": {
          "base_uri": "https://localhost:8080/"
        },
        "id": "icLU9pjTdY9e",
        "outputId": "8b00e3a9-f0c3-4bc4-9f9a-50891b7d52e3"
      },
      "execution_count": 29,
      "outputs": [
        {
          "output_type": "stream",
          "name": "stdout",
          "text": [
            "10 20 30\n",
            "10:20:30\n"
          ]
        }
      ]
    },
    {
      "cell_type": "code",
      "source": [
        "print(\"Hello\", end=\" \")\n",
        "print(\"Chirag\", end=\" \")\n",
        "print(\"How\", end=\" \")\n",
        "print(\"are\", end=\" \")\n",
        "print(\"you\", end=\" \")"
      ],
      "metadata": {
        "colab": {
          "base_uri": "https://localhost:8080/"
        },
        "id": "LfAMQveeeDXc",
        "outputId": "78897d8a-b17f-4c7a-c5fd-ad0c63a40562"
      },
      "execution_count": 30,
      "outputs": [
        {
          "output_type": "stream",
          "name": "stdout",
          "text": [
            "Hello Chirag How are you "
          ]
        }
      ]
    },
    {
      "cell_type": "code",
      "source": [
        "a=10\n",
        "b=20\n",
        "C=30\n",
        "print(\"a value is %i\" %a)\n",
        "print(\"b value is %d and c value is %d\" %(b,c))"
      ],
      "metadata": {
        "colab": {
          "base_uri": "https://localhost:8080/"
        },
        "id": "rX96y8j9euXG",
        "outputId": "af2905f4-0660-4b57-e66b-ef149478f56d"
      },
      "execution_count": 31,
      "outputs": [
        {
          "output_type": "stream",
          "name": "stdout",
          "text": [
            "a value is 10\n",
            "b value is 20 and c value is 30\n"
          ]
        }
      ]
    },
    {
      "cell_type": "code",
      "source": [
        "name=\"Chirag Vijayvergiya\"\n",
        "salary=3000000\n",
        "company=\"Google\"\n",
        "print(\"Hello {0} your salary is {1} and Company {2}\". format (name, salary, company))\n",
        "print(\"Hello {x} your salary is {y} and Company {z}\".format (x=name, y=salary, z=company))"
      ],
      "metadata": {
        "colab": {
          "base_uri": "https://localhost:8080/"
        },
        "id": "03f1zxhEfdAD",
        "outputId": "8e3e080d-55f7-48e9-ad48-67886b92cbb3"
      },
      "execution_count": 33,
      "outputs": [
        {
          "output_type": "stream",
          "name": "stdout",
          "text": [
            "Hello Chirag Vijayvergiya your salary is 3000000 and Company Google\n",
            "Hello Chirag Vijayvergiya your salary is 3000000 and Company Google\n"
          ]
        }
      ]
    },
    {
      "cell_type": "code",
      "source": [
        "x = 6\n",
        "print(x % 10)"
      ],
      "metadata": {
        "colab": {
          "base_uri": "https://localhost:8080/"
        },
        "id": "Lq_mgtkZgPGN",
        "outputId": "74d36325-237b-499c-9591-065fcc5e49ca"
      },
      "execution_count": 35,
      "outputs": [
        {
          "output_type": "stream",
          "name": "stdout",
          "text": [
            "Enter x value :- 45\n",
            "5\n"
          ]
        }
      ]
    },
    {
      "cell_type": "code",
      "source": [
        "# swap without using third variable\n",
        "x = int(input(\"Enter x value :- \"))\n",
        "y = int(input(\"Enter y value :- \"))\n",
        "x = x - y\n",
        "y = x + y\n",
        "x = y - x\n",
        "print(x, y)"
      ],
      "metadata": {
        "colab": {
          "base_uri": "https://localhost:8080/"
        },
        "id": "_0pgT-hhgmsP",
        "outputId": "4cffcf0a-a588-4a8e-efa2-27e4bf24e5ff"
      },
      "execution_count": 4,
      "outputs": [
        {
          "output_type": "stream",
          "name": "stdout",
          "text": [
            "Enter x value :- 10\n",
            "Enter y value :- 4\n",
            "4 10\n"
          ]
        }
      ]
    },
    {
      "cell_type": "code",
      "source": [
        "# Find sum of 2 digit of number\n",
        "x = int(input(\"Enter x value :- \"))\n",
        "no1 = x % 10\n",
        "no2 = x // 10\n",
        "res = no1 + no2\n",
        "print(\"Sum of 2 digit of Number :- \", res)"
      ],
      "metadata": {
        "colab": {
          "base_uri": "https://localhost:8080/"
        },
        "id": "WiLPArjkySJ5",
        "outputId": "cb041d58-33d1-4c47-d532-824998ee68cf"
      },
      "execution_count": 5,
      "outputs": [
        {
          "output_type": "stream",
          "name": "stdout",
          "text": [
            "Enter x value :- 45\n",
            "Sum of 2 digit of Number :-  9\n"
          ]
        }
      ]
    },
    {
      "cell_type": "code",
      "source": [
        "# Find sum of 3 digit of number\n",
        "x = int(input(\"Enter x value :- \"))\n",
        "no1 = x % 10\n",
        "no2 = (x // 10) % 10\n",
        "no3 = x // 100\n",
        "res = no1 + no2 + no3\n",
        "print(\"Sum of 3 digit of Number :- \", res)"
      ],
      "metadata": {
        "colab": {
          "base_uri": "https://localhost:8080/"
        },
        "id": "r679OYWnzZWx",
        "outputId": "3d25f861-51f9-455b-d562-bcb02fbc4f48"
      },
      "execution_count": 6,
      "outputs": [
        {
          "output_type": "stream",
          "name": "stdout",
          "text": [
            "Enter x value :- 123\n",
            "Sum of 3 digit of Number :-  6\n"
          ]
        }
      ]
    },
    {
      "cell_type": "code",
      "source": [
        "x = int(input(\"Enter x value :- \"))\n",
        "sum = 0\n",
        "while(x > 0) :\n",
        "    sum = sum + (x % 10)\n",
        "    x = x // 10\n",
        "print(\"Sum of digit of Number :- \", sum)\n"
      ],
      "metadata": {
        "colab": {
          "base_uri": "https://localhost:8080/"
        },
        "id": "akLuAnP0zz5-",
        "outputId": "4878668d-2e16-4d7e-d548-2f48dd3cc5a1"
      },
      "execution_count": 11,
      "outputs": [
        {
          "output_type": "stream",
          "name": "stdout",
          "text": [
            "Enter x value :- 12345\n",
            "Sum of digit of Number :-  15\n"
          ]
        }
      ]
    },
    {
      "cell_type": "code",
      "source": [
        "# Find sum of 5 digit of number\n",
        "x = int(input(\"Enter x value :- \"))\n",
        "no1 = x % 10\n",
        "no2 = (x // 10) % 10\n",
        "no3 = (x // 100 ) % 10\n",
        "no4 = (x // 1000 ) % 10\n",
        "no5 = (x // 10000 )\n",
        "res = no1 + no2 + no3 + no4 + no5\n",
        "print(\"Sum of 5 digit of Number :- \", res)"
      ],
      "metadata": {
        "colab": {
          "base_uri": "https://localhost:8080/"
        },
        "id": "bbVzOyXV0Kz1",
        "outputId": "202cedbd-08bb-42ff-e844-920eb50a8cf9"
      },
      "execution_count": 15,
      "outputs": [
        {
          "output_type": "stream",
          "name": "stdout",
          "text": [
            "Enter x value :- 12345\n",
            "Sum of 5 digit of Number :-  15\n"
          ]
        }
      ]
    },
    {
      "cell_type": "code",
      "source": [
        "# Find Reverse of 5 digit of number\n",
        "x = int(input(\"Enter x value :- \"))\n",
        "no1 = x % 10\n",
        "x = x // 10\n",
        "no2 = x % 10\n",
        "x = x // 10\n",
        "no3 = x % 10\n",
        "x = x // 10\n",
        "no4 = x % 10\n",
        "x = x // 10\n",
        "no5 = x % 10\n",
        "res = no1 * 10000 + no2 * 1000 + no3 * 100 + no4 * 10 + no5\n",
        "print(\"Sum of 5 digit of Number :- \", res)"
      ],
      "metadata": {
        "colab": {
          "base_uri": "https://localhost:8080/"
        },
        "id": "C888GYyZ04_0",
        "outputId": "a289c1c7-52fd-4a16-ba52-499cd35f44bf"
      },
      "execution_count": 17,
      "outputs": [
        {
          "output_type": "stream",
          "name": "stdout",
          "text": [
            "Enter x value :- 12345\n",
            "Sum of 5 digit of Number :-  54321\n"
          ]
        }
      ]
    },
    {
      "cell_type": "code",
      "source": [
        "# Find the sum of first and last digit of 9 digit number\n",
        "x = int(input(\"Enter x value :- \"))\n",
        "no1 = x // 100000000\n",
        "no2 = x % 10\n",
        "print(no1 + no2)"
      ],
      "metadata": {
        "colab": {
          "base_uri": "https://localhost:8080/"
        },
        "id": "KXMu7oG72aNU",
        "outputId": "96f671a1-b760-49d8-9a0b-f401ffb9fdf2"
      },
      "execution_count": 19,
      "outputs": [
        {
          "output_type": "stream",
          "name": "stdout",
          "text": [
            "Enter x value :- 123456789\n",
            "10\n"
          ]
        }
      ]
    },
    {
      "cell_type": "code",
      "source": [
        "s = \"chirag\"\n",
        "print(s[0])\n",
        "print(s[-1])\n",
        "print(s[0:4])\n",
        "print(s[2:4])\n",
        "print(s[:4])\n",
        "print(s[2:])\n",
        "print(s[::])\n",
        "print(s[::2])\n",
        "print(s[1::2])\n",
        "print(s[::-1])"
      ],
      "metadata": {
        "colab": {
          "base_uri": "https://localhost:8080/"
        },
        "id": "b4DTtAB729X4",
        "outputId": "e6b5ecf0-9ccc-4679-f8c4-5d493e7f445c"
      },
      "execution_count": 26,
      "outputs": [
        {
          "output_type": "stream",
          "name": "stdout",
          "text": [
            "c\n",
            "g\n",
            "chir\n",
            "ir\n",
            "chir\n",
            "irag\n",
            "chirag\n",
            "cia\n",
            "hrg\n",
            "garihc\n"
          ]
        }
      ]
    },
    {
      "cell_type": "code",
      "source": [
        "# Accept only 5 numbers & find max numbers\n",
        "a = int(input(\"Enter a value :- \"))\n",
        "b = int(input(\"Enter b value :- \"))\n",
        "c = int(input(\"Enter c value :- \"))\n",
        "d = int(input(\"Enter d value :- \"))\n",
        "e = int(input(\"Enter e value :- \"))\n",
        "mx = a\n",
        "if(mx < b) :\n",
        "    mx = b\n",
        "if(mx < c) :\n",
        "    mx = c\n",
        "if(mx < d) :\n",
        "    mx = d\n",
        "if(mx < e) :\n",
        "    mx = e\n",
        "print(\"Maximum number is :- \", mx)\n",
        "\n",
        "\n",
        ""
      ],
      "metadata": {
        "colab": {
          "base_uri": "https://localhost:8080/"
        },
        "id": "mFCiw1l16MrK",
        "outputId": "796fc5f4-45a8-45a8-b0bc-a346cb5b37d3"
      },
      "execution_count": 27,
      "outputs": [
        {
          "output_type": "stream",
          "name": "stdout",
          "text": [
            "Enter a value :- 4\n",
            "Enter b value :- 7\n",
            "Enter c value :- 2\n",
            "Enter d value :- 8\n",
            "Enter e value :- 1\n",
            "Maximum number is :-  8\n"
          ]
        }
      ]
    },
    {
      "cell_type": "code",
      "source": [
        "a = int(input(\"Enter paper1 value :- \"))\n",
        "b = int(input(\"Enter paper2 value :- \"))\n",
        "c = int(input(\"Enter paper3 value :- \"))\n",
        "g = input(\"Enter Gender(f/m) :- \")\n",
        "total = a + b + c\n",
        "percentage = total / 300 * 100\n",
        "if (percentage >= 82 and g == \"f\") :\n",
        "    print(\"She can take Admission\")\n",
        "elif (percentage >= 62 and g == \"m\") :\n",
        "    print(\"He can take Admission\")\n",
        "else:\n",
        "    print(\"Can not take Admission\")\n"
      ],
      "metadata": {
        "colab": {
          "base_uri": "https://localhost:8080/"
        },
        "id": "9pMpCndL84jz",
        "outputId": "aff7f912-674d-46f5-a22d-86417cc7864f"
      },
      "execution_count": 30,
      "outputs": [
        {
          "output_type": "stream",
          "name": "stdout",
          "text": [
            "Enter paper1 value :- 56\n",
            "Enter paper2 value :- 98\n",
            "Enter paper3 value :- 45\n",
            "Enter Gender(f/m) :- f\n",
            "Can not take Admission\n"
          ]
        }
      ]
    },
    {
      "cell_type": "code",
      "source": [
        "year = int(input(\"Enter year value :- \"))\n",
        "if (year % 100 != 0) :\n",
        "    print(\"Non Century Year\")\n",
        "    if(year % 4 == 0) :\n",
        "        print(\"Leap Year\")\n",
        "    else :\n",
        "        print(\"Not Leap Year\")\n",
        "else :\n",
        "    print(\"Century Year\")\n",
        "    if(year % 400 == 0) :\n",
        "        print(\"Leap Year\")\n",
        "    else :\n",
        "        print(\"Not Leap Year\")\n",
        "\n",
        "\n",
        ""
      ],
      "metadata": {
        "colab": {
          "base_uri": "https://localhost:8080/"
        },
        "id": "4LH8se03-u9z",
        "outputId": "71fb792a-9211-4492-e638-368ff5a912fc"
      },
      "execution_count": 32,
      "outputs": [
        {
          "output_type": "stream",
          "name": "stdout",
          "text": [
            "Enter year value :- 2024\n",
            "Non Century Year\n",
            "Leap Year\n"
          ]
        }
      ]
    },
    {
      "cell_type": "code",
      "source": [
        "cp = int(input(\"Enter cost price value :- \"))\n",
        "userType = input(\"Enter User Type (Student / General) :- \")\n",
        "discount = 0\n",
        "\n",
        "if(userType == \"Student\") :\n",
        "    if(cp > 500) :\n",
        "        discount = 10\n",
        "    else :\n",
        "        discount = 5\n",
        "else :\n",
        "    if(cp > 500) :\n",
        "        discount = 8\n",
        "    else :\n",
        "        discount = 3\n",
        "\n",
        "sp = cp - (cp * discount) / 100\n",
        "print(\"cost price is :-\", cp)\n",
        "print(\"Discount is :- \", discount)\n",
        "print(\"Net Price is :- \", sp)\n"
      ],
      "metadata": {
        "colab": {
          "base_uri": "https://localhost:8080/"
        },
        "id": "zNJ25-dVB35f",
        "outputId": "dcea61a6-b8f4-4a99-abb8-50782d06410e"
      },
      "execution_count": 33,
      "outputs": [
        {
          "output_type": "stream",
          "name": "stdout",
          "text": [
            "Enter cost price value :- 551\n",
            "Enter User Type (Student / General) :- Student\n",
            "cost price is :- 551\n",
            "Discount is :-  10\n",
            "Net Price is :-  495.9\n"
          ]
        }
      ]
    },
    {
      "cell_type": "code",
      "source": [
        "# covert the character in ASCII value by ord function\n",
        "x = input(\"Enter a character :-\")\n",
        "x = ord(x)\n",
        "if(x >= 65 and x <= 90) :\n",
        "    print(\"Upper Case\")\n",
        "elif(x >= 97 and x <= 122) :\n",
        "    print(\"Lower Case\")\n",
        "else :\n",
        "    print(\"Special Character\")\n",
        ""
      ],
      "metadata": {
        "colab": {
          "base_uri": "https://localhost:8080/"
        },
        "id": "qzB47_EDDl7W",
        "outputId": "6e263c4e-2323-43db-adf1-3fbe3d5d9d0f"
      },
      "execution_count": 38,
      "outputs": [
        {
          "output_type": "stream",
          "name": "stdout",
          "text": [
            "Enter a character :-Z\n",
            "Upper Case\n"
          ]
        }
      ]
    },
    {
      "cell_type": "code",
      "source": [
        "# If we want to execute a block of statement or no of statememnts repeatedly again and again till the condition is satisfied, so will use loop\n",
        "\n",
        "# For loop is used when range is given\n",
        "# While loop is used when range is not given\n",
        "\n"
      ],
      "metadata": {
        "id": "8qqIQ49sF5cU"
      },
      "execution_count": null,
      "outputs": []
    },
    {
      "cell_type": "code",
      "source": [
        "x = int(input(\"Enter a Number :-\"))\n",
        "res = 0\n",
        "while(x > 0) :\n",
        "    rem = x % 10\n",
        "    res = res * 10 + rem\n",
        "    x = x // 10\n",
        "print(res)"
      ],
      "metadata": {
        "colab": {
          "base_uri": "https://localhost:8080/"
        },
        "id": "gxY1mt_xJzBL",
        "outputId": "17f0e1f4-6e45-4dea-a0e6-c071d66dd148"
      },
      "execution_count": 40,
      "outputs": [
        {
          "output_type": "stream",
          "name": "stdout",
          "text": [
            "Enter a Number :-134\n",
            "431\n"
          ]
        }
      ]
    },
    {
      "cell_type": "code",
      "source": [
        "x = int(input(\"Enter a Number :-\"))\n",
        "count = 0\n",
        "while(x > 0) :\n",
        "    x = x // 10\n",
        "    count = count + 1\n",
        "print(count)"
      ],
      "metadata": {
        "colab": {
          "base_uri": "https://localhost:8080/"
        },
        "id": "wMSI-bRCJ8xB",
        "outputId": "956d9f2e-a2e8-4beb-fd73-8b1330bc7560"
      },
      "execution_count": 41,
      "outputs": [
        {
          "output_type": "stream",
          "name": "stdout",
          "text": [
            "Enter a Number :-12345\n",
            "5\n"
          ]
        }
      ]
    },
    {
      "cell_type": "code",
      "source": [
        "x = int(input(\"Enter a Number :-\"))\n",
        "sum = 0\n",
        "while(x > 0) :\n",
        "    rem = x % 10\n",
        "    sum = sum + rem\n",
        "    x = x // 10\n",
        "print(sum)"
      ],
      "metadata": {
        "colab": {
          "base_uri": "https://localhost:8080/"
        },
        "id": "qHrY8zwPLr1w",
        "outputId": "487a9e9d-2d75-482a-edfb-39e902f1f7b0"
      },
      "execution_count": 43,
      "outputs": [
        {
          "output_type": "stream",
          "name": "stdout",
          "text": [
            "Enter a Number :-1234\n",
            "10\n"
          ]
        }
      ]
    },
    {
      "cell_type": "code",
      "source": [
        "x = int(input(\"Enter a Number :-\"))\n",
        "fact = 1\n",
        "while(x > 0) :\n",
        "    fact = fact * x\n",
        "    x = x - 1\n",
        "print(fact)"
      ],
      "metadata": {
        "colab": {
          "base_uri": "https://localhost:8080/"
        },
        "id": "JNH4H3E9L22Z",
        "outputId": "3ef9044d-7ad5-406e-e11c-b1a299a5102b"
      },
      "execution_count": 44,
      "outputs": [
        {
          "output_type": "stream",
          "name": "stdout",
          "text": [
            "Enter a Number :-4\n",
            "24\n"
          ]
        }
      ]
    },
    {
      "cell_type": "code",
      "source": [
        "x = int(input(\"Enter a Number :-\"))\n",
        "mul = 1\n",
        "while(x > 0) :\n",
        "    rem = x % 10\n",
        "    mul = mul * rem\n",
        "    x = x // 10\n",
        "print(mul)"
      ],
      "metadata": {
        "colab": {
          "base_uri": "https://localhost:8080/"
        },
        "id": "yA6lGxknMIFd",
        "outputId": "454314c9-847c-4264-f3b1-77b7335b49f8"
      },
      "execution_count": 46,
      "outputs": [
        {
          "output_type": "stream",
          "name": "stdout",
          "text": [
            "Enter a Number :-12345\n",
            "120\n"
          ]
        }
      ]
    },
    {
      "cell_type": "code",
      "source": [
        "x = int(input(\"Enter a Number :-\"))\n",
        "s = x\n",
        "y = x\n",
        "count = 0\n",
        "while(y > 0):\n",
        "    y = y // 10\n",
        "    count = count + 1\n",
        "print(count)\n",
        "sum = 0\n",
        "while(x > 0):\n",
        "  rem = x % 10\n",
        "  sum = sum + rem ** count\n",
        "  x = x // 10\n",
        "if(sum == s):\n",
        "  print(\"Armstrong Number\")\n",
        "else:\n",
        "  print(\"Not Armstrong Number\")\n",
        "\n"
      ],
      "metadata": {
        "colab": {
          "base_uri": "https://localhost:8080/"
        },
        "id": "_j5Wtz4IMi0q",
        "outputId": "0f3dcab0-2ce3-4a62-bf59-5994201a14a9"
      },
      "execution_count": 52,
      "outputs": [
        {
          "output_type": "stream",
          "name": "stdout",
          "text": [
            "Enter a Number :-156\n",
            "3\n",
            "Not Armstrong Number\n"
          ]
        }
      ]
    },
    {
      "cell_type": "code",
      "source": [
        "x = int(input(\"Enter a Number :-\"))\n",
        "for i in range(1, x + 1) :\n",
        "    p = i\n",
        "    s = i\n",
        "    y = i\n",
        "    count = 0\n",
        "    while(y > 0):\n",
        "        y = y // 10\n",
        "        count = count + 1\n",
        "    # print(count)\n",
        "    sum = 0\n",
        "    while(p > 0):\n",
        "      rem = p % 10\n",
        "      sum = sum + rem ** count\n",
        "      p = p // 10\n",
        "    if(sum == s):\n",
        "      print(\"Armstrong Number\", i)"
      ],
      "metadata": {
        "colab": {
          "base_uri": "https://localhost:8080/"
        },
        "id": "dZzRXjxXOjZ4",
        "outputId": "370a510c-7830-4aaa-bfc8-9c1b79b5aa7b"
      },
      "execution_count": 56,
      "outputs": [
        {
          "output_type": "stream",
          "name": "stdout",
          "text": [
            "Enter a Number :-10000\n",
            "Armstrong Number 1\n",
            "Armstrong Number 2\n",
            "Armstrong Number 3\n",
            "Armstrong Number 4\n",
            "Armstrong Number 5\n",
            "Armstrong Number 6\n",
            "Armstrong Number 7\n",
            "Armstrong Number 8\n",
            "Armstrong Number 9\n",
            "Armstrong Number 153\n",
            "Armstrong Number 370\n",
            "Armstrong Number 371\n",
            "Armstrong Number 407\n",
            "Armstrong Number 1634\n",
            "Armstrong Number 8208\n",
            "Armstrong Number 9474\n"
          ]
        }
      ]
    },
    {
      "cell_type": "code",
      "source": [
        "x = int(input(\"Enter a Number :-\"))\n",
        "p = x\n",
        "sum = 0\n",
        "while(p > 0) :\n",
        "  rem = p % 10\n",
        "  fact = 1\n",
        "  while(rem > 0) :\n",
        "    fact = fact * rem\n",
        "    rem = rem - 1\n",
        "  sum += fact\n",
        "  p = p // 10\n",
        "\n",
        "if(sum == x):\n",
        "  print(\"Peterson Number\")\n",
        "else:\n",
        "  print(\"Not Peterson Number\")\n",
        "\n"
      ],
      "metadata": {
        "colab": {
          "base_uri": "https://localhost:8080/"
        },
        "id": "N2q_nhJ1QOEF",
        "outputId": "a996931e-d530-4861-fc47-9409c0a443e5"
      },
      "execution_count": 60,
      "outputs": [
        {
          "output_type": "stream",
          "name": "stdout",
          "text": [
            "Enter a Number :-145\n",
            "Peterson Number\n"
          ]
        }
      ]
    },
    {
      "cell_type": "code",
      "source": [
        "x = int(input(\"Enter a Number :-\"))\n",
        "s = x\n",
        "y = x\n",
        "count = 0\n",
        "while(y > 0):\n",
        "    y = y // 10\n",
        "    count = count + 1\n",
        "# print(count)\n",
        "\n",
        "if(count % 2 == 0):\n",
        "        p = 0\n",
        "        sum = 0\n",
        "        while( p < count / 2):\n",
        "          rem = s % 10\n",
        "          sum = sum * 10 + rem\n",
        "          s = s // 10\n",
        "          p = p + 1\n",
        "\n",
        "        pxs = 0\n",
        "        # print(s, sum)\n",
        "        while(sum > 0):\n",
        "          rem = sum % 10\n",
        "          pxs = pxs * 10 + rem\n",
        "          sum = sum // 10\n",
        "\n",
        "        # print(s, pxs)\n",
        "\n",
        "        ans = pxs + s\n",
        "        ans = ans ** 2\n",
        "        if(x == ans):\n",
        "          print(\"Tech Number\")\n",
        "        else:\n",
        "          print(\"Not a Tech Number\")\n",
        "else :\n",
        "  print(\"Not a Tech Number\")\n",
        "\n",
        "\n"
      ],
      "metadata": {
        "colab": {
          "base_uri": "https://localhost:8080/"
        },
        "id": "rXRVveAcR_S0",
        "outputId": "27062e16-e2a1-4b90-d6a5-55b381d21c4a"
      },
      "execution_count": 1,
      "outputs": [
        {
          "output_type": "stream",
          "name": "stdout",
          "text": [
            "Enter a Number :-2025\n",
            "20 25\n",
            "Tech Number\n"
          ]
        }
      ]
    },
    {
      "cell_type": "code",
      "source": [],
      "metadata": {
        "id": "GoiN9AdhUwPr"
      },
      "execution_count": 71,
      "outputs": []
    }
  ]
}
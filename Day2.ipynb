{
  "cells": [
    {
      "cell_type": "code",
      "execution_count": null,
      "metadata": {
        "colab": {
          "base_uri": "https://localhost:8080/"
        },
        "id": "laSEHF7MF46F",
        "outputId": "4d0b634d-5806-423a-a351-73119aa6c49d"
      },
      "outputs": [
        {
          "name": "stdout",
          "output_type": "stream",
          "text": [
            "1\n",
            "2\n",
            "3\n",
            "4\n"
          ]
        }
      ],
      "source": [
        "for i in range (1,11):\n",
        "  if i==5:\n",
        "    break\n",
        "  print (i)"
      ]
    },
    {
      "cell_type": "code",
      "execution_count": null,
      "metadata": {
        "colab": {
          "base_uri": "https://localhost:8080/"
        },
        "id": "waQD-gCuHFbE",
        "outputId": "e9ae3cb7-4501-4df0-c7c4-e7f90f1ec7a9"
      },
      "outputs": [
        {
          "name": "stdout",
          "output_type": "stream",
          "text": [
            "1\n",
            "2\n",
            "3\n",
            "4\n",
            "6\n",
            "7\n",
            "8\n",
            "9\n",
            "10\n"
          ]
        }
      ],
      "source": [
        "for i in range (1,11):\n",
        "  if i==5:\n",
        "    continue\n",
        "  print (i)"
      ]
    },
    {
      "cell_type": "code",
      "execution_count": null,
      "metadata": {
        "colab": {
          "base_uri": "https://localhost:8080/"
        },
        "id": "cJlE6VWbHZ4p",
        "outputId": "85d6a710-f64d-488a-bf02-1cad3c3c36d6"
      },
      "outputs": [
        {
          "name": "stdout",
          "output_type": "stream",
          "text": [
            "1 10\n",
            "2 9\n",
            "4 7\n",
            "5 6\n"
          ]
        }
      ],
      "source": [
        "for i in range (1,6):\n",
        "  if i==3:\n",
        "    continue\n",
        "  print (i, 11 - i)"
      ]
    },
    {
      "cell_type": "code",
      "execution_count": null,
      "metadata": {
        "colab": {
          "base_uri": "https://localhost:8080/"
        },
        "id": "KF91GN1IH6TU",
        "outputId": "e8a1e987-586e-4008-d9c8-6b825f393c58"
      },
      "outputs": [
        {
          "name": "stdout",
          "output_type": "stream",
          "text": [
            "1111\n",
            "2222\n",
            "3333\n",
            "4444\n"
          ]
        }
      ],
      "source": [
        "for i in range(1,5):\n",
        "  for j in range(1,5):\n",
        "    print(i, end=\"\")\n",
        "  print(end=\"\\n\")"
      ]
    },
    {
      "cell_type": "code",
      "execution_count": null,
      "metadata": {
        "colab": {
          "base_uri": "https://localhost:8080/"
        },
        "id": "fcnIXo2SK6uv",
        "outputId": "9dba3727-064b-45fa-8e69-cae01f7751e3"
      },
      "outputs": [
        {
          "name": "stdout",
          "output_type": "stream",
          "text": [
            "1 2 3 4 \n",
            "5 6 7 8 \n",
            "9 10 11 12 \n",
            "13 14 15 16 \n"
          ]
        }
      ],
      "source": [
        "n = 1\n",
        "for i in range(1,5):\n",
        "  for j in range(1,5):\n",
        "    print(n, end=\" \")\n",
        "    n += 1  # Shorthand operator\n",
        "  print(end=\"\\n\")"
      ]
    },
    {
      "cell_type": "code",
      "execution_count": null,
      "metadata": {
        "colab": {
          "base_uri": "https://localhost:8080/"
        },
        "id": "xeKvW-j3MYTB",
        "outputId": "77eebcde-887f-439c-d3ec-cbb1da78a235"
      },
      "outputs": [
        {
          "name": "stdout",
          "output_type": "stream",
          "text": [
            "A B C D \n",
            "E F G H \n",
            "I J K L \n",
            "M N O P \n"
          ]
        }
      ],
      "source": [
        "n = 'A'\n",
        "for i in range(1,5):\n",
        "  for j in range(1,5):\n",
        "    print(n, end=\" \")\n",
        "    n = chr(ord(n) + 1)  # Shorthand operator\n",
        "  print(end=\"\\n\")"
      ]
    },
    {
      "cell_type": "code",
      "execution_count": null,
      "metadata": {
        "colab": {
          "base_uri": "https://localhost:8080/"
        },
        "id": "tnTMGvZQM0QH",
        "outputId": "ebcba045-5eeb-4184-c959-e0c9feaf7f6c"
      },
      "outputs": [
        {
          "name": "stdout",
          "output_type": "stream",
          "text": [
            "A B C D \n",
            "E F G H \n",
            "I J K L \n",
            "M N O P \n"
          ]
        }
      ],
      "source": [
        "n = 65\n",
        "for i in range(1,5):\n",
        "  for j in range(1,5):\n",
        "    print(chr(n), end=\" \")\n",
        "    n = n + 1  # Shorthand operator\n",
        "  print(end=\"\\n\")"
      ]
    },
    {
      "cell_type": "code",
      "execution_count": null,
      "metadata": {
        "colab": {
          "base_uri": "https://localhost:8080/"
        },
        "id": "eTMd0YFhNV2C",
        "outputId": "bb826c70-6a04-4e16-95e4-33db884fde31"
      },
      "outputs": [
        {
          "name": "stdout",
          "output_type": "stream",
          "text": [
            "1\n",
            "22\n",
            "333\n",
            "4444\n"
          ]
        }
      ],
      "source": [
        "for i in range(1,5):\n",
        "  for j in range(1, i + 1):\n",
        "    print(i, end=\"\")\n",
        "  print(end=\"\\n\")"
      ]
    },
    {
      "cell_type": "code",
      "execution_count": null,
      "metadata": {
        "colab": {
          "base_uri": "https://localhost:8080/"
        },
        "id": "-morQ-o7Nhb3",
        "outputId": "a40e3a3f-4d0d-41e8-c004-88d102efe027"
      },
      "outputs": [
        {
          "name": "stdout",
          "output_type": "stream",
          "text": [
            "****\n",
            "***\n",
            "**\n",
            "*\n"
          ]
        }
      ],
      "source": [
        "for i in range(1,5):\n",
        "  for j in range(6, i + 1, -1):\n",
        "    print(\"*\", end=\"\")\n",
        "  print(end=\"\\n\")"
      ]
    },
    {
      "cell_type": "code",
      "execution_count": null,
      "metadata": {
        "colab": {
          "base_uri": "https://localhost:8080/"
        },
        "id": "E80IEYqkOTeg",
        "outputId": "0caa2509-0a6a-4935-fa68-2811ad092dc8"
      },
      "outputs": [
        {
          "name": "stdout",
          "output_type": "stream",
          "text": [
            "****\n",
            " ***\n",
            "  **\n",
            "   *\n"
          ]
        }
      ],
      "source": [
        "for i in range(1,5):\n",
        "  for k in range(1, i):\n",
        "    print(\" \", end=\"\")\n",
        "  for j in range(5, i, - 1):\n",
        "    print(\"*\", end=\"\")\n",
        "  print(end=\"\\n\")"
      ]
    },
    {
      "cell_type": "code",
      "execution_count": null,
      "metadata": {
        "colab": {
          "base_uri": "https://localhost:8080/"
        },
        "id": "f4Rir2L9OsB2",
        "outputId": "4f198d81-6175-4c83-ef1e-6f59aa334188"
      },
      "outputs": [
        {
          "name": "stdout",
          "output_type": "stream",
          "text": [
            "   *\n",
            "  **\n",
            " ***\n",
            "****\n"
          ]
        }
      ],
      "source": [
        "for i in range(1,5):\n",
        "  for k in range(1, 5 - i):\n",
        "    print(\" \", end=\"\")\n",
        "  for j in range(1, i + 1):\n",
        "    print(\"*\", end=\"\")\n",
        "  print(end=\"\\n\")"
      ]
    },
    {
      "cell_type": "code",
      "execution_count": null,
      "metadata": {
        "colab": {
          "base_uri": "https://localhost:8080/"
        },
        "id": "hjuwXjQxPzdB",
        "outputId": "6f65c9fe-5890-4753-b467-2e43e02b7c3a"
      },
      "outputs": [
        {
          "name": "stdout",
          "output_type": "stream",
          "text": [
            "9\n",
            "-1\n",
            "3\n",
            "43\n"
          ]
        }
      ],
      "source": [
        "s=\"Learning Python is very easy from Ashish Sir\"\n",
        "print(s.find (\"Python\" )) #9\n",
        "print(s.find(\"Java\")) # -1\n",
        "print(s.find(\"r\")) #3\n",
        "print(s.rfind(\"r\"))#43\n"
      ]
    },
    {
      "cell_type": "code",
      "execution_count": null,
      "metadata": {
        "colab": {
          "base_uri": "https://localhost:8080/"
        },
        "id": "iNQYUuSqTIU9",
        "outputId": "82840e92-28dc-4911-d7ac-bc00f2393f3f"
      },
      "outputs": [
        {
          "name": "stdout",
          "output_type": "stream",
          "text": [
            "6\n",
            "4\n",
            "3\n"
          ]
        }
      ],
      "source": [
        "# Find Occurances\n",
        "s=\"abcabcabcabcadda\"\n",
        "print(s.count('a'))\n",
        "print(s.count('ab'))\n",
        "print(s.count('a', 3,10))"
      ]
    },
    {
      "cell_type": "code",
      "execution_count": null,
      "metadata": {
        "colab": {
          "base_uri": "https://localhost:8080/"
        },
        "id": "Rc7GR5v-VGaE",
        "outputId": "e6ea0fe5-c0d5-4ba7-c552-96fb480ffcf4"
      },
      "outputs": [
        {
          "name": "stdout",
          "output_type": "stream",
          "text": [
            "Learning Python is very easy from Ashish Sir\n"
          ]
        }
      ],
      "source": [
        "S=\"Learning Python is very difficult from Ashish Sir\"\n",
        "s1=S.replace(\"difficult\", \"easy\")\n",
        "print(s1)"
      ]
    },
    {
      "cell_type": "code",
      "execution_count": null,
      "metadata": {
        "id": "qjgpXWNpVtlH"
      },
      "outputs": [],
      "source": [
        "# Immutable :-  Can not be change in the same memory\n"
      ]
    },
    {
      "cell_type": "code",
      "execution_count": null,
      "metadata": {
        "colab": {
          "base_uri": "https://localhost:8080/"
        },
        "id": "gb9Ad6tIXt3m",
        "outputId": "0bc7aa0e-aeb5-46e8-f8f9-a77ee4584c56"
      },
      "outputs": [
        {
          "name": "stdout",
          "output_type": "stream",
          "text": [
            "['Learning', 'Python', 'is', 'very', 'difficult', 'from', 'Ashish', 'Sir']\n",
            "<class 'list'>\n",
            "Learning\n",
            "Python\n",
            "is\n",
            "very\n",
            "difficult\n",
            "from\n",
            "Ashish\n",
            "Sir\n"
          ]
        }
      ],
      "source": [
        "# split\n",
        "l = S.split();\n",
        "print(l)\n",
        "print(type(l))\n",
        "for x in l :\n",
        "  print(x)"
      ]
    },
    {
      "cell_type": "code",
      "execution_count": null,
      "metadata": {
        "colab": {
          "base_uri": "https://localhost:8080/"
        },
        "id": "dU3LT0eVX6cg",
        "outputId": "686b8730-5607-4e71-bfe7-26b529abfd17"
      },
      "outputs": [
        {
          "name": "stdout",
          "output_type": "stream",
          "text": [
            "['22', '02', '2022']\n"
          ]
        }
      ],
      "source": [
        "s = \"22-02-2022\"\n",
        "l = s.split('-')\n",
        "print(l)"
      ]
    },
    {
      "cell_type": "code",
      "execution_count": null,
      "metadata": {
        "colab": {
          "base_uri": "https://localhost:8080/"
        },
        "id": "16DXTMxiYSWu",
        "outputId": "facbacdb-428b-4123-ea2f-c32395ca2b6f"
      },
      "outputs": [
        {
          "name": "stdout",
          "output_type": "stream",
          "text": [
            "Nagpur Pune Mumbai Delhi\n"
          ]
        }
      ],
      "source": [
        "#Joining of Strings:\n",
        "l= [ 'Nagpur','Pune', 'Mumbai', 'Delhi']\n",
        "s=' '.join(l)\n",
        "print(s)"
      ]
    },
    {
      "cell_type": "code",
      "execution_count": null,
      "metadata": {
        "colab": {
          "base_uri": "https://localhost:8080/"
        },
        "id": "1OxTG9JgZCVi",
        "outputId": "fd438b67-cf22-4b1f-91ce-e458550cc990"
      },
      "outputs": [
        {
          "name": "stdout",
          "output_type": "stream",
          "text": [
            "LEARNING PYTHON IS VERY EASY FROM ASHISH SIR\n",
            "learning python is very easy from ashish sir\n",
            "LEARNING pYTHON IS VERY eASY FROM aSHISH SIR\n",
            "Learning Python Is Very Easy From Ashish Sir\n",
            "Learning python is very easy from ashish sir\n"
          ]
        }
      ],
      "source": [
        "s='learning Python is very Easy from Ashish sir'\n",
        "print(s.upper ())\n",
        "print(s. lower())\n",
        "print(s. swapcase())\n",
        "print(s.title())\n",
        "print(s. capitalize())"
      ]
    },
    {
      "cell_type": "code",
      "execution_count": null,
      "metadata": {
        "colab": {
          "base_uri": "https://localhost:8080/"
        },
        "id": "woT_1MdMZvrF",
        "outputId": "e3635d6a-8653-4940-c345-8c24d209fb4c"
      },
      "outputs": [
        {
          "name": "stdout",
          "output_type": "stream",
          "text": [
            "True\n",
            "False\n",
            "True\n"
          ]
        }
      ],
      "source": [
        "s='learning Python is very Easy from Ashish sir'\n",
        "print(s. startswith( 'learning' ))\n",
        "print(s. endswith( 'learning' ))\n",
        "print(s.endswith('sir'))"
      ]
    },
    {
      "cell_type": "code",
      "execution_count": null,
      "metadata": {
        "colab": {
          "base_uri": "https://localhost:8080/"
        },
        "id": "_z-tm147Z-jZ",
        "outputId": "bbef0484-469b-4cbe-ba5b-740a6a50cb91"
      },
      "outputs": [
        {
          "name": "stdout",
          "output_type": "stream",
          "text": [
            "True\n",
            "False\n",
            "True\n",
            "False\n",
            "True\n",
            "True\n",
            "False\n",
            "True\n",
            "True\n",
            "False\n",
            "True\n",
            "True\n"
          ]
        }
      ],
      "source": [
        "print ('Ashish786' .isalnum ())\n",
        "print('ashish786' .isalpha())\n",
        "print( 'ashish' .isalpha())\n",
        "print('ashish' .isdigit())\n",
        "print('786786' .isdigit())\n",
        "print('abc' .islower()) #True\n",
        "print( 'Abc'. islower()) #False\n",
        "print('abc123' .islower()) #True\n",
        "print( 'ABC' .isupper()) #True\n",
        "print( 'Learning python is Easy from Ashish Sir'.istitle())\n",
        "print( 'Learning Python Is Easy From Ashish Sir'.istitle())\n",
        "print(' '.isspace()) #True"
      ]
    },
    {
      "cell_type": "code",
      "execution_count": null,
      "metadata": {
        "colab": {
          "base_uri": "https://localhost:8080/"
        },
        "id": "9CRLyWGKapD0",
        "outputId": "c7497c99-3e4b-4a42-9188-f58d2713f3ff"
      },
      "outputs": [
        {
          "name": "stdout",
          "output_type": "stream",
          "text": [
            "Enter a Mobile Number :- 5354353532\n",
            "Mobile Number is not starting with correct code\n"
          ]
        }
      ],
      "source": [
        "mob = input(\"Enter a Mobile Number :- \")\n",
        "if len(mob) == 10 :\n",
        "  if(mob.isdigit()) :\n",
        "    # if mob.startswith('6') or mob.startswith('7') or mob.startswith('8') or mob.startswith('9'):\n",
        "    if mob.startswith(('6','7','8','9')):\n",
        "        print(\"Valid Mobile Number\")\n",
        "    else:\n",
        "      print(\"Mobile Number is not starting with correct code\")\n",
        "  else:\n",
        "    print(\"Mobile Number is not digit\")\n",
        "else:\n",
        "  print(\"Mobile length is not 10\")"
      ]
    },
    {
      "cell_type": "code",
      "execution_count": null,
      "metadata": {
        "colab": {
          "base_uri": "https://localhost:8080/"
        },
        "id": "9qcBcA8obhfE",
        "outputId": "a2e898a3-9849-4cbb-af8f-0361a9d96063"
      },
      "outputs": [
        {
          "name": "stdout",
          "output_type": "stream",
          "text": [
            "Enter String: dkjdlsfs\n",
            "sfsldjkd\n",
            "Enter String: hdskfjksjak\n",
            "kajskjfksdh\n"
          ]
        }
      ],
      "source": [
        "#Reverse String\n",
        "# 1st Way:\n",
        "s=input(\"Enter String: \")\n",
        "print(s[::-1])\n",
        "# 2nd Way:\n",
        "s=input(\"Enter String: \")\n",
        "print('' .join (reversed (s)))"
      ]
    },
    {
      "cell_type": "code",
      "execution_count": null,
      "metadata": {
        "colab": {
          "base_uri": "https://localhost:8080/"
        },
        "id": "_QUQmMm2dENP",
        "outputId": "bebc7062-ae80-4856-b8ce-0089c1d5a2d1"
      },
      "outputs": [
        {
          "name": "stdout",
          "output_type": "stream",
          "text": [
            "Enter String: dhsfkjsdf\n",
            "fdsjkfshd\n"
          ]
        }
      ],
      "source": [
        "#Reverse String without using any function\n",
        "s=input(\"Enter String: \")\n",
        "p = ''\n",
        "for i in s:\n",
        "  p = i + p\n",
        "print(p)"
      ]
    },
    {
      "cell_type": "code",
      "execution_count": null,
      "metadata": {
        "colab": {
          "base_uri": "https://localhost:8080/"
        },
        "id": "tdKHjgCNdyPE",
        "outputId": "ac14e268-1666-4667-f192-aa335c5b7c6c"
      },
      "outputs": [
        {
          "name": "stdout",
          "output_type": "stream",
          "text": [
            "['Learning', 'Python', 'is', 'very', 'Easy', 'from', 'Ashish', 'Sir']\n",
            "Sir Ashish from Easy very is Python Learning \n"
          ]
        }
      ],
      "source": [
        "# input : Learning Python is very Easy from Ashish Sir\n",
        "# output: Sir Ashish from Easy Very is Python Learning\n",
        "s= \"Learning Python is very Easy from Ashish Sir\"\n",
        "l = s.split()\n",
        "print(l)\n",
        "x = ''\n",
        "for i in l:\n",
        "  x = i + ' ' + x\n",
        "print(x)\n",
        "\n"
      ]
    },
    {
      "cell_type": "code",
      "execution_count": null,
      "metadata": {
        "colab": {
          "base_uri": "https://localhost:8080/"
        },
        "id": "Q7q-s_iafhiD",
        "outputId": "91e9e67d-b2b3-4ae1-9e76-ff977f9215be"
      },
      "outputs": [
        {
          "name": "stdout",
          "output_type": "stream",
          "text": [
            "['Learning', 'Python', 'is', 'very', 'Easy', 'from', 'Ashish', 'Sir']\n",
            " gninraeL nohtyP si yrev ysaE morf hsihsA riS\n"
          ]
        }
      ],
      "source": [
        "# input : Learning Python is very Easy from Ashish Sir\n",
        "# output: gninrael nohtyP si yrev ysaE morf hsihsA riS\n",
        "s= \"Learning Python is very Easy from Ashish Sir\"\n",
        "l = s.split()\n",
        "print(l)\n",
        "x = ''\n",
        "for i in l:\n",
        "  x = x + ' ' + i[::-1]\n",
        "print(x)"
      ]
    },
    {
      "cell_type": "code",
      "execution_count": null,
      "metadata": {
        "colab": {
          "base_uri": "https://localhost:8080/"
        },
        "id": "AvK8_7nahfVU",
        "outputId": "355d4280-c535-4da3-d616-39ea1ededeff"
      },
      "outputs": [
        {
          "name": "stdout",
          "output_type": "stream",
          "text": [
            "ABDCEF\n"
          ]
        }
      ],
      "source": [
        "# input: ABCDABBCDABBBCCCDDEEEF\n",
        "# output: ABCDEF\n",
        "# unique string\n",
        "s= \"ABDACDABBCDABBBCCCDDEEEF\"\n",
        "x = ''\n",
        "for i in s:\n",
        "  if i not in x:\n",
        "    x = x + i\n",
        "print(x)"
      ]
    },
    {
      "cell_type": "code",
      "execution_count": null,
      "metadata": {
        "colab": {
          "base_uri": "https://localhost:8080/"
        },
        "id": "9yr9e8gQjJOb",
        "outputId": "4eded50e-07fb-46ed-b609-1a5362513cd8"
      },
      "outputs": [
        {
          "name": "stdout",
          "output_type": "stream",
          "text": [
            "[]\n",
            "<class 'list'>\n",
            "[]\n"
          ]
        }
      ],
      "source": [
        "# Creation of List Objects:\n",
        "# 1. We can create empty list object as follows...\n",
        "list=[]\n",
        "print (list)\n",
        "print(type(list))\n",
        "# 2. If we know elements already then we can create list as follows list=[10,20,30,40]\n",
        "print(list)\n",
        "\n",
        "# # 3. With dynamic input:\n",
        "# list=eval(input(\"Enter List:\"))\n",
        "# print (list)\n",
        "# print(type(list))\n",
        "\n",
        "# 4. With list() function:\n",
        "# # not working in colab\n",
        "# l=list(range(0,11,2))\n",
        "# print (l)\n",
        "# print (type (l))"
      ]
    },
    {
      "cell_type": "code",
      "execution_count": null,
      "metadata": {
        "colab": {
          "base_uri": "https://localhost:8080/"
        },
        "id": "E_JTNZL8l5_q",
        "outputId": "a62e5f70-5368-4cfb-c4d4-cfc1013bf531"
      },
      "outputs": [
        {
          "name": "stdout",
          "output_type": "stream",
          "text": [
            "['A', 343, 2, 'C']\n",
            "[0, 10, 20, 30, 40, 50, 60, 70, 80, 90, 100]\n"
          ]
        }
      ],
      "source": [
        "list=[]\n",
        "list. append (\"A\")\n",
        "list. append (2)\n",
        "list. append (\"C\")\n",
        "list.insert(1,\"B\")\n",
        "list[1] = 343\n",
        "print(list)\n",
        "\n",
        "list=[]\n",
        "for i in range (101):\n",
        "  if i%10==0:\n",
        "    list.append(i)\n",
        "print(list)"
      ]
    },
    {
      "cell_type": "code",
      "execution_count": null,
      "metadata": {
        "colab": {
          "base_uri": "https://localhost:8080/"
        },
        "id": "5HpGkIejnfrz",
        "outputId": "f5a82133-ae10-47cf-f1ec-8259d8534bcc"
      },
      "outputs": [
        {
          "name": "stdout",
          "output_type": "stream",
          "text": [
            "['Apple', 'Banana', 'Mango', 'PEPSI', 'COKE', 'DEW']\n"
          ]
        }
      ],
      "source": [
        "order1=[\"Apple\", \"Banana\", \"Mango\"]\n",
        "order2=[ \"PEPSI\", \"COKE\" , \"DEW\" ]\n",
        "order1. extend (order2)\n",
        "print (order1)"
      ]
    },
    {
      "cell_type": "code",
      "execution_count": null,
      "metadata": {
        "colab": {
          "base_uri": "https://localhost:8080/"
        },
        "id": "BwlM9s5EoONs",
        "outputId": "b8f9a308-1d73-4e29-b7cd-8b07df9630da"
      },
      "outputs": [
        {
          "name": "stdout",
          "output_type": "stream",
          "text": [
            "[20, 10, 30]\n",
            "[20]\n"
          ]
        }
      ],
      "source": [
        "n=[10,20,10,30]\n",
        "n.remove (10)\n",
        "print(n)\n",
        "n. remove ( 30)\n",
        "n.pop()\n",
        "print(n)"
      ]
    },
    {
      "cell_type": "code",
      "execution_count": null,
      "metadata": {
        "colab": {
          "base_uri": "https://localhost:8080/"
        },
        "id": "1U34JjkWpvZE",
        "outputId": "e5a6353e-0a34-4a87-bdee-7967193b915e"
      },
      "outputs": [
        {
          "name": "stdout",
          "output_type": "stream",
          "text": [
            "[40, 30, 20, 10]\n"
          ]
        }
      ],
      "source": [
        "n=[10,20, 30,40]\n",
        "n. reverse()\n",
        "print(n)"
      ]
    },
    {
      "cell_type": "code",
      "execution_count": null,
      "metadata": {
        "colab": {
          "base_uri": "https://localhost:8080/"
        },
        "id": "4JMp4DQWqrTj",
        "outputId": "5af63e67-82d8-402f-bd0d-f55b16684744"
      },
      "outputs": [
        {
          "name": "stdout",
          "output_type": "stream",
          "text": [
            "[10, 20, 10, 30, 2, 42, 4, 24, 2]\n",
            "[10, 20, 10, 30, 10, 20, 10, 30, 10, 20, 10, 30]\n"
          ]
        }
      ],
      "source": [
        "n1=[10,20,10,30]\n",
        "n2=[2,42,4,24, 2]\n",
        "res=n1+n2\n",
        "print(res)\n",
        "res = n1 * 3\n",
        "print(res)"
      ]
    },
    {
      "cell_type": "code",
      "execution_count": null,
      "metadata": {
        "colab": {
          "base_uri": "https://localhost:8080/"
        },
        "id": "Vb2LALAl8wsA",
        "outputId": "d079a805-b71c-40ef-9618-933519c5cf03"
      },
      "outputs": [
        {
          "name": "stdout",
          "output_type": "stream",
          "text": [
            "10\n",
            "30\n",
            "[23, 56, 23]\n",
            "23\n"
          ]
        }
      ],
      "source": [
        "# Nested List\n",
        "n=[10,20, 30, [23, 56, 23]]\n",
        "print(n[0])\n",
        "print(n[2])\n",
        "print(n[3])\n",
        "print(n[3][0])"
      ]
    },
    {
      "cell_type": "code",
      "execution_count": null,
      "metadata": {
        "colab": {
          "base_uri": "https://localhost:8080/"
        },
        "id": "DaWC8pVe8Z-l",
        "outputId": "41c8493e-8435-4cbf-ae75-981f667e3a80"
      },
      "outputs": [
        {
          "name": "stdout",
          "output_type": "stream",
          "text": [
            "[[10, 20, 30], [40, 50, 60], [70, 80, 90]]\n",
            "[10, 20, 30]\n",
            "[40, 50, 60]\n",
            "[70, 80, 90]\n",
            "102030\n",
            "405060\n",
            "708090\n"
          ]
        }
      ],
      "source": [
        "n=[[10,20, 30], [40, 50, 60], [70, 80, 90]]\n",
        "print(n)\n",
        "for x in n:\n",
        "  print (x)\n",
        "for i in range(len(n)):\n",
        "  for j in range(len(n[i])):\n",
        "    print(n[i][j],end=\"\")\n",
        "  print()"
      ]
    },
    {
      "cell_type": "code",
      "execution_count": 17,
      "metadata": {
        "colab": {
          "base_uri": "https://localhost:8080/"
        },
        "id": "SY21VA8k-EGn",
        "outputId": "5f3787ca-809e-438f-ebce-7eaae23aa44d"
      },
      "outputs": [
        {
          "name": "stdout",
          "output_type": "stream",
          "text": [
            "Enter the no of subject in  1 Semester :- \n",
            "Enter the no of subject in  2 Semester :- \n",
            "Enter the no of subject in  3 Semester :- \n",
            "Enter the  1  semester  1  subject Marks :- \n",
            "Enter the  1  semester  2  subject Marks :- \n",
            "Enter the  1  semester  3  subject Marks :- \n",
            "Enter the  2  semester  1  subject Marks :- \n",
            "Enter the  2  semester  2  subject Marks :- \n",
            "Enter the  2  semester  3  subject Marks :- \n",
            "Enter the  2  semester  4  subject Marks :- \n",
            "Enter the  3  semester  1  subject Marks :- \n",
            "Enter the  3  semester  2  subject Marks :- \n",
            "[3, 4, 2]\n",
            "[50, 60, 70, 90, 98, 76, 67, 89, 76]\n",
            "Maximum marks in  1  semester :-  70\n",
            "Maximum marks in  2  semester :-  98\n",
            "Maximum marks in  3  semester :-  89\n"
          ]
        }
      ],
      "source": [
        "sem = int(input(\"Enter the No. of Semester :- \"))\n",
        "sub = []\n",
        "for i in range(sem):\n",
        "  print(\"Enter the no of subject in \", i + 1, \"Semester :- \")\n",
        "  sb = int(input())\n",
        "  sub.append(sb)\n",
        "\n",
        "sma = []\n",
        "maxMarks = []\n",
        "for i in range(sem):\n",
        "  for j in range(sub[i]):\n",
        "    print(\"Enter the \", i + 1, \" semester \", j + 1,  \" subject Marks :- \")\n",
        "    sm = int(input())\n",
        "    sma.append(sm)\n",
        "print(sub)\n",
        "print(sma)\n",
        "\n",
        "count = 0\n",
        "p = 0\n",
        "for i in range(len(sub)):\n",
        "  x = sub[i]\n",
        "  count += x\n",
        "  maxi = 0\n",
        "  for j in range(p, count):\n",
        "    if j < len(sma) and sma[j] > maxi:\n",
        "      maxi = sma[j]\n",
        "  p = count\n",
        "  maxMarks.append(maxi)\n",
        "\n",
        "\n",
        "for i in range(len(maxMarks)) : \n",
        "    print(\"Maximum marks in \", i + 1, \" semester :- \", maxMarks[i])\n",
        "\n",
        "\n",
        "\n",
        "\n",
        "\n"
      ]
    },
    {
      "cell_type": "code",
      "execution_count": 2,
      "metadata": {
        "id": "X79OG9FUBDJL"
      },
      "outputs": [
        {
          "name": "stdout",
          "output_type": "stream",
          "text": [
            "[12, 2, 233, 45, 45, 678, 9, 56, 0]\n",
            "{0, 2, 678, 233, 9, 12, 45, 56}\n"
          ]
        }
      ],
      "source": [
        "list = [12, 2, 233,45,45,678,9,56,0]\n",
        "print(list)\n",
        "s = set(list)\n",
        "print(s)"
      ]
    },
    {
      "cell_type": "code",
      "execution_count": 5,
      "metadata": {},
      "outputs": [
        {
          "name": "stdout",
          "output_type": "stream",
          "text": [
            "ashish\n",
            "sandip\n"
          ]
        }
      ],
      "source": [
        "d={100: 'ashish' ,200: 'Prashant', 300: 'sandip'}\n",
        "print(d[100])\n",
        "print(d[ 300])"
      ]
    },
    {
      "cell_type": "code",
      "execution_count": 6,
      "metadata": {},
      "outputs": [
        {
          "name": "stdout",
          "output_type": "stream",
          "text": [
            "{100: 'ashish', 200: 'Sonu', 300: 'sandip', 101: 'Ashish', 102: 'Raj'}\n",
            "Sonu\n"
          ]
        }
      ],
      "source": [
        "d={100: 'ashish', 200: 'Prashant', 300: 'sandip'}\n",
        "d[101]=\"Ashish\"\n",
        "d [102]=\"Raj\"\n",
        "d [200]=\"Sonu\"\n",
        "print (d)\n",
        "print(d[200])"
      ]
    },
    {
      "cell_type": "code",
      "execution_count": 11,
      "metadata": {},
      "outputs": [
        {
          "name": "stdout",
          "output_type": "stream",
          "text": [
            "Name\tMarks\n",
            " --------------------- \n",
            "chirag \t 90\n",
            "kapil \t 90\n",
            "shubham \t 90\n"
          ]
        }
      ],
      "source": [
        "rec={}\n",
        "n=int(input(\"Enter number of students: \"))\n",
        "for i in range(0,n):\n",
        "    name=input(\"Enter student name: \")\n",
        "    marks=input(\"Enter % marks of student: \")\n",
        "    rec [name]=marks \n",
        "\n",
        "print (\"Name\\tMarks\") \n",
        "print(\" --------------------- \")\n",
        "for i in rec:\n",
        "    print (i,\"\\t\", rec[i])"
      ]
    },
    {
      "cell_type": "code",
      "execution_count": 12,
      "metadata": {},
      "outputs": [
        {
          "name": "stdout",
          "output_type": "stream",
          "text": [
            "ashish\n",
            "ashish\n",
            "None\n",
            "ashish\n",
            "Guest\n"
          ]
        }
      ],
      "source": [
        "d={100: 'ashish' ,200: 'Prashant', 300: 'sandip'}\n",
        "print(d[100])\n",
        "#print(d[400])\n",
        "print(d. get (100))\n",
        "print(d. get (400))\n",
        "print(d. get (100, \"Guest\" ))\n",
        "print(d. get (400, \"Guest\"))"
      ]
    },
    {
      "cell_type": "code",
      "execution_count": 15,
      "metadata": {},
      "outputs": [
        {
          "name": "stdout",
          "output_type": "stream",
          "text": [
            "dict_keys([100, 200, 300])\n",
            "100\n",
            "200\n",
            "300\n"
          ]
        }
      ],
      "source": [
        "d={100: 'ashish' ,200: 'Prashant', 300: ' sandip'}\n",
        "print(d. keys ())\n",
        "for k in d. keys():\n",
        "  print(k)"
      ]
    },
    {
      "cell_type": "code",
      "execution_count": 16,
      "metadata": {},
      "outputs": [
        {
          "name": "stdout",
          "output_type": "stream",
          "text": [
            "dict_values(['ashish', 'Prashant', 'sandip'])\n",
            "ashish\n",
            "Prashant\n",
            "sandip\n"
          ]
        }
      ],
      "source": [
        "d={100: 'ashish' ,200: 'Prashant',300: 'sandip'}\n",
        "print(d. values ( ));\n",
        "for v in d.values ():\n",
        "    print (v)"
      ]
    },
    {
      "cell_type": "code",
      "execution_count": 18,
      "metadata": {},
      "outputs": [
        {
          "name": "stdout",
          "output_type": "stream",
          "text": [
            "100 --> ashish\n",
            "200 --> Prashant\n",
            "300 --> sandip\n"
          ]
        }
      ],
      "source": [
        "d={100: 'ashish' ,200: 'Prashant',300: 'sandip'}\n",
        "for k,v in d.items():\n",
        "    print(k,\"-->\",v)"
      ]
    },
    {
      "cell_type": "code",
      "execution_count": 19,
      "metadata": {},
      "outputs": [
        {
          "name": "stdout",
          "output_type": "stream",
          "text": [
            "1 --> 23\n",
            "2 --> 34\n",
            "3 --> 45\n",
            "4 --> 56\n",
            "Total Sum :-  158\n"
          ]
        }
      ],
      "source": [
        "rec={}\n",
        "n=int(input(\"Enter numbers :- \"))\n",
        "for i in range(0,n):\n",
        "    key=input(\"Enter key: \")\n",
        "    values=input(\"Enter value: \")\n",
        "    rec [key]=values\n",
        "\n",
        "sum = 0\n",
        "for k,v in rec.items():\n",
        "    print(k,\"-->\",v)\n",
        "    sum += int(v)\n",
        "print(\"Total Sum :- \", sum) "
      ]
    },
    {
      "cell_type": "code",
      "execution_count": 30,
      "metadata": {},
      "outputs": [
        {
          "name": "stdout",
          "output_type": "stream",
          "text": [
            "[3, 4, 4, -1]\n"
          ]
        }
      ],
      "source": [
        "list = [1, 3, 2, 4]\n",
        "ans = []\n",
        "for i in range(len(list)):\n",
        "    for j in range(i + 1, len(list)):\n",
        "        if list[j] > list[i]:\n",
        "            ans.append(list[j])\n",
        "            break\n",
        "ans.append(-1)\n",
        "print(ans)        \n",
        "\n",
        "  \n"
      ]
    },
    {
      "cell_type": "code",
      "execution_count": 46,
      "metadata": {},
      "outputs": [
        {
          "name": "stdout",
          "output_type": "stream",
          "text": [
            "a2b4e4f2g3\n"
          ]
        }
      ],
      "source": [
        "input = \"aabbbbeeeeffggg\"\n",
        "output = \"\"\n",
        "count = 1\n",
        "i = 0\n",
        "while i < len(input):\n",
        "    x = input[i]\n",
        "    for j in range(i + 1, len(input)):\n",
        "        if x == input[j]:\n",
        "            count += 1\n",
        "        else:\n",
        "            break\n",
        "    output += x + str(count)\n",
        "    i += count\n",
        "    count = 1\n",
        "print(output)"
      ]
    },
    {
      "cell_type": "code",
      "execution_count": 54,
      "metadata": {},
      "outputs": [
        {
          "name": "stdout",
          "output_type": "stream",
          "text": [
            "Anagram\n"
          ]
        }
      ],
      "source": [
        "str1 = \"silent\"\n",
        "str2 = \"Listen\"\n",
        "l1 = str1.lower()\n",
        "l2 = str2.lower()\n",
        "\n",
        "if (len(l1) == len(l2)) and (sorted(l1) == sorted(l2)):\n",
        "    print(\"Anagram\")\n",
        "else:\n",
        "    print(\"Not Anagram\")"
      ]
    }
  ],
  "metadata": {
    "colab": {
      "provenance": []
    },
    "kernelspec": {
      "display_name": "Python 3",
      "name": "python3"
    },
    "language_info": {
      "codemirror_mode": {
        "name": "ipython",
        "version": 3
      },
      "file_extension": ".py",
      "mimetype": "text/x-python",
      "name": "python",
      "nbconvert_exporter": "python",
      "pygments_lexer": "ipython3",
      "version": "3.12.1"
    }
  },
  "nbformat": 4,
  "nbformat_minor": 0
}
